{
 "cells": [
  {
   "cell_type": "code",
   "execution_count": 1,
   "id": "962e4bed",
   "metadata": {},
   "outputs": [],
   "source": [
    "import requests\n",
    "from bs4 import BeautifulSoup\n",
    "import pandas as pd"
   ]
  },
  {
   "cell_type": "code",
   "execution_count": 2,
   "id": "1fbe34e2",
   "metadata": {},
   "outputs": [],
   "source": [
    "# URL for Milan rentals on Immobiliare.it\n",
    "url = 'https://www.immobiliare.it/affitto-case/milano/'\n",
    "url_priceSorted = 'https://www.immobiliare.it/en/affitto-case/milano/?criterio=prezzo&ordine=asc'"
   ]
  },
  {
   "cell_type": "code",
   "execution_count": 3,
   "id": "0c5be64e",
   "metadata": {},
   "outputs": [],
   "source": [
    "def get_request(url):\n",
    "    \n",
    "    # Send a GET request to the provided URL\n",
    "    print(f\"Get request sent to {url}\")\n",
    "    response = requests.get(url)\n",
    "    print(f\"Response Received with code {response}.\")\n",
    "    return response"
   ]
  },
  {
   "cell_type": "code",
   "execution_count": 10,
   "id": "bdac0178",
   "metadata": {},
   "outputs": [],
   "source": [
    "def extract_list_items(Get_response):\n",
    "\n",
    "    soup = BeautifulSoup(Get_response.text, 'html.parser')\n",
    "    print(f\"soup created.\")\n",
    "    # Find all the property listings\n",
    "    listings = soup.find_all('li', attrs={\"class\":\"nd-list__item in-realEstateResults__item\"})\n",
    "    total_listings = len(listings)\n",
    "    print(f\"{total_listings} items were extracted.\")\n",
    "    return listings"
   ]
  },
  {
   "cell_type": "code",
   "execution_count": 17,
   "id": "f9bffe14",
   "metadata": {},
   "outputs": [],
   "source": [
    "def extract_itemAttributes(listing):\n",
    "    \n",
    "    # Initialize lists to store the scraped data\n",
    "    Title = []\n",
    "    Price = []\n",
    "    Explanation = []\n",
    "    Link = []\n",
    "    total_listings = len(listing)\n",
    "\n",
    "    # Scrape data from each property listing\n",
    "    for i, listing in enumerate(listings, 1):\n",
    "        print(f\"Scraping listing {i} of {total_listings}...\")\n",
    "\n",
    "        # Extract Title \n",
    "        Title.append(listing.find('a', class_=\"in-card__title\").text.strip())\n",
    "\n",
    "    #     # Extract property price\n",
    "        Price.append(listing.find('li', class_=\"nd-list__item in-feat__item in-feat__item--main in-realEstateListCard__features--main\").text.strip())\n",
    "\n",
    "    #     # Extract explanation\n",
    "        Explanation.append(listing.find('ul', class_='listing-features').find('li', class_='lif__item lif__item--surface').text.strip())\n",
    "\n",
    "    #     # Extract Link\n",
    "    #     Link.append(listing.find('ul', class_='listing-features').find('li', class_='lif__item lif__item--surface').text.strip())\n",
    "\n",
    "\n",
    "    # Create a pandas DataFrame to store the scraped data\n",
    "    data = pd.DataFrame({'Title': Title, 'Price': Price})\n",
    "    return data    "
   ]
  },
  {
   "cell_type": "code",
   "execution_count": 6,
   "id": "dee232b4",
   "metadata": {},
   "outputs": [
    {
     "name": "stdout",
     "output_type": "stream",
     "text": [
      "Get request sent to https://www.immobiliare.it/affitto-case/milano/\n",
      "Response Received with code <Response [200]>.\n"
     ]
    }
   ],
   "source": [
    "# Scrape the data\n",
    "Get_response = get_request(url)"
   ]
  },
  {
   "cell_type": "code",
   "execution_count": 7,
   "id": "02037e3c",
   "metadata": {},
   "outputs": [
    {
     "name": "stdout",
     "output_type": "stream",
     "text": [
      "Get request sent to https://www.immobiliare.it/en/affitto-case/milano/?criterio=prezzo&ordine=asc\n",
      "Response Received with code <Response [200]>.\n"
     ]
    }
   ],
   "source": [
    "# Scrape the data\n",
    "Get_response_priceSorted = get_request(url_priceSorted)"
   ]
  },
  {
   "cell_type": "code",
   "execution_count": 12,
   "id": "42cc38f3",
   "metadata": {},
   "outputs": [
    {
     "name": "stdout",
     "output_type": "stream",
     "text": [
      "soup created.\n",
      "25 items were extracted.\n"
     ]
    }
   ],
   "source": [
    "listings = extract_list_items(Get_response_priceSorted)"
   ]
  },
  {
   "cell_type": "code",
   "execution_count": 18,
   "id": "823f9343",
   "metadata": {},
   "outputs": [
    {
     "name": "stdout",
     "output_type": "stream",
     "text": [
      "Scraping listing 1 of 25...\n",
      "Scraping listing 2 of 25...\n",
      "Scraping listing 3 of 25...\n",
      "Scraping listing 4 of 25...\n",
      "Scraping listing 5 of 25...\n",
      "Scraping listing 6 of 25...\n",
      "Scraping listing 7 of 25...\n",
      "Scraping listing 8 of 25...\n",
      "Scraping listing 9 of 25...\n",
      "Scraping listing 10 of 25...\n",
      "Scraping listing 11 of 25...\n",
      "Scraping listing 12 of 25...\n",
      "Scraping listing 13 of 25...\n",
      "Scraping listing 14 of 25...\n",
      "Scraping listing 15 of 25...\n",
      "Scraping listing 16 of 25...\n",
      "Scraping listing 17 of 25...\n",
      "Scraping listing 18 of 25...\n",
      "Scraping listing 19 of 25...\n",
      "Scraping listing 20 of 25...\n",
      "Scraping listing 21 of 25...\n",
      "Scraping listing 22 of 25...\n",
      "Scraping listing 23 of 25...\n",
      "Scraping listing 24 of 25...\n",
      "Scraping listing 25 of 25...\n"
     ]
    }
   ],
   "source": [
    "data = extract_itemAttributes(listings)"
   ]
  },
  {
   "cell_type": "code",
   "execution_count": 19,
   "id": "afae6c79",
   "metadata": {},
   "outputs": [
    {
     "data": {
      "text/html": [
       "<div>\n",
       "<style scoped>\n",
       "    .dataframe tbody tr th:only-of-type {\n",
       "        vertical-align: middle;\n",
       "    }\n",
       "\n",
       "    .dataframe tbody tr th {\n",
       "        vertical-align: top;\n",
       "    }\n",
       "\n",
       "    .dataframe thead th {\n",
       "        text-align: right;\n",
       "    }\n",
       "</style>\n",
       "<table border=\"1\" class=\"dataframe\">\n",
       "  <thead>\n",
       "    <tr style=\"text-align: right;\">\n",
       "      <th></th>\n",
       "      <th>Title</th>\n",
       "      <th>Price</th>\n",
       "    </tr>\n",
       "  </thead>\n",
       "  <tbody>\n",
       "    <tr>\n",
       "      <th>0</th>\n",
       "      <td>Apartment viale Carlo Troya, Piazza Napoli, Milan</td>\n",
       "      <td>€ 2/month</td>\n",
       "    </tr>\n",
       "    <tr>\n",
       "      <th>1</th>\n",
       "      <td>Studio piazza Prealpi 4, Certosa, Milan</td>\n",
       "      <td>€ 325/month</td>\n",
       "    </tr>\n",
       "    <tr>\n",
       "      <th>2</th>\n",
       "      <td>2-room flat via Flavia 3, Affori, Milan</td>\n",
       "      <td>€ 400/month</td>\n",
       "    </tr>\n",
       "    <tr>\n",
       "      <th>3</th>\n",
       "      <td>Studio viale Bligny 42, Bocconi, Milan</td>\n",
       "      <td>€ 480/month</td>\n",
       "    </tr>\n",
       "    <tr>\n",
       "      <th>4</th>\n",
       "      <td>Studio via Francesco Cavezzali 11, Turro, Milan</td>\n",
       "      <td>€ 500/month</td>\n",
       "    </tr>\n",
       "    <tr>\n",
       "      <th>5</th>\n",
       "      <td>Studio via Ennio, Martini - Insubria, Milan</td>\n",
       "      <td>€ 500/month</td>\n",
       "    </tr>\n",
       "    <tr>\n",
       "      <th>6</th>\n",
       "      <td>Studio via Giovanni da Milano, 17, Città Studi...</td>\n",
       "      <td>€ 500/month</td>\n",
       "    </tr>\n",
       "    <tr>\n",
       "      <th>7</th>\n",
       "      <td>Studio via Plezzo, Udine, Milan</td>\n",
       "      <td>€ 550/month</td>\n",
       "    </tr>\n",
       "    <tr>\n",
       "      <th>8</th>\n",
       "      <td>Studio via Giovanni Ricordi, Città Studi, Milan</td>\n",
       "      <td>€ 560/month</td>\n",
       "    </tr>\n",
       "    <tr>\n",
       "      <th>9</th>\n",
       "      <td>2-room flat via Benozzo Gozzoli, Bisceglie, Milan</td>\n",
       "      <td>€ 570/month</td>\n",
       "    </tr>\n",
       "    <tr>\n",
       "      <th>10</th>\n",
       "      <td>Studio via Fabriano, Affori, Milan</td>\n",
       "      <td>€ 570/month</td>\n",
       "    </tr>\n",
       "    <tr>\n",
       "      <th>11</th>\n",
       "      <td>Studio via demonte 4, Prato Centenaro, Milan</td>\n",
       "      <td>€ 575/month</td>\n",
       "    </tr>\n",
       "    <tr>\n",
       "      <th>12</th>\n",
       "      <td>Studio via Dario Niccodemi, Certosa, Milan</td>\n",
       "      <td>€ 580/month</td>\n",
       "    </tr>\n",
       "    <tr>\n",
       "      <th>13</th>\n",
       "      <td>Studio via Dario Niccodemi, Certosa, Milan</td>\n",
       "      <td>€ 580/month</td>\n",
       "    </tr>\n",
       "    <tr>\n",
       "      <th>14</th>\n",
       "      <td>Studio via Dario Niccodemi, Certosa, Milan</td>\n",
       "      <td>€ 580/month</td>\n",
       "    </tr>\n",
       "    <tr>\n",
       "      <th>15</th>\n",
       "      <td>Studio via Dario Niccodemi, Certosa, Milan</td>\n",
       "      <td>€ 580/month</td>\n",
       "    </tr>\n",
       "    <tr>\n",
       "      <th>16</th>\n",
       "      <td>Studio via Dario Niccodemi, Certosa, Milan</td>\n",
       "      <td>€ 580/month</td>\n",
       "    </tr>\n",
       "    <tr>\n",
       "      <th>17</th>\n",
       "      <td>Studio via Baldassarre Oltrocchi, Martini - In...</td>\n",
       "      <td>€ 600/month</td>\n",
       "    </tr>\n",
       "    <tr>\n",
       "      <th>18</th>\n",
       "      <td>Studio via Cividale del Friuli, Baggio, Milan</td>\n",
       "      <td>€ 600/month</td>\n",
       "    </tr>\n",
       "    <tr>\n",
       "      <th>19</th>\n",
       "      <td>2-room flat via Casoretto, Casoretto, Milan</td>\n",
       "      <td>€ 600/month</td>\n",
       "    </tr>\n",
       "    <tr>\n",
       "      <th>20</th>\n",
       "      <td>Studio via Vincenzo Vela 15, Città Studi, Milan</td>\n",
       "      <td>€ 600/month</td>\n",
       "    </tr>\n",
       "    <tr>\n",
       "      <th>21</th>\n",
       "      <td>2-room flat via Giuseppe Tartini 13/A, Dergano...</td>\n",
       "      <td>€ 600/month</td>\n",
       "    </tr>\n",
       "    <tr>\n",
       "      <th>22</th>\n",
       "      <td>Studio viale Monte Nero 22, Porta Romana - Med...</td>\n",
       "      <td>€ 600/month</td>\n",
       "    </tr>\n",
       "    <tr>\n",
       "      <th>23</th>\n",
       "      <td>Studio via Don Giovanni Bosco 29, Lodi - Brent...</td>\n",
       "      <td>€ 600/month</td>\n",
       "    </tr>\n",
       "    <tr>\n",
       "      <th>24</th>\n",
       "      <td>Studio via Imbonati, 7, Dergano, Milan</td>\n",
       "      <td>€ 600/month</td>\n",
       "    </tr>\n",
       "  </tbody>\n",
       "</table>\n",
       "</div>"
      ],
      "text/plain": [
       "                                                Title        Price\n",
       "0   Apartment viale Carlo Troya, Piazza Napoli, Milan    € 2/month\n",
       "1             Studio piazza Prealpi 4, Certosa, Milan  € 325/month\n",
       "2             2-room flat via Flavia 3, Affori, Milan  € 400/month\n",
       "3              Studio viale Bligny 42, Bocconi, Milan  € 480/month\n",
       "4     Studio via Francesco Cavezzali 11, Turro, Milan  € 500/month\n",
       "5         Studio via Ennio, Martini - Insubria, Milan  € 500/month\n",
       "6   Studio via Giovanni da Milano, 17, Città Studi...  € 500/month\n",
       "7                     Studio via Plezzo, Udine, Milan  € 550/month\n",
       "8     Studio via Giovanni Ricordi, Città Studi, Milan  € 560/month\n",
       "9   2-room flat via Benozzo Gozzoli, Bisceglie, Milan  € 570/month\n",
       "10                 Studio via Fabriano, Affori, Milan  € 570/month\n",
       "11       Studio via demonte 4, Prato Centenaro, Milan  € 575/month\n",
       "12         Studio via Dario Niccodemi, Certosa, Milan  € 580/month\n",
       "13         Studio via Dario Niccodemi, Certosa, Milan  € 580/month\n",
       "14         Studio via Dario Niccodemi, Certosa, Milan  € 580/month\n",
       "15         Studio via Dario Niccodemi, Certosa, Milan  € 580/month\n",
       "16         Studio via Dario Niccodemi, Certosa, Milan  € 580/month\n",
       "17  Studio via Baldassarre Oltrocchi, Martini - In...  € 600/month\n",
       "18      Studio via Cividale del Friuli, Baggio, Milan  € 600/month\n",
       "19        2-room flat via Casoretto, Casoretto, Milan  € 600/month\n",
       "20    Studio via Vincenzo Vela 15, Città Studi, Milan  € 600/month\n",
       "21  2-room flat via Giuseppe Tartini 13/A, Dergano...  € 600/month\n",
       "22  Studio viale Monte Nero 22, Porta Romana - Med...  € 600/month\n",
       "23  Studio via Don Giovanni Bosco 29, Lodi - Brent...  € 600/month\n",
       "24             Studio via Imbonati, 7, Dergano, Milan  € 600/month"
      ]
     },
     "execution_count": 19,
     "metadata": {},
     "output_type": "execute_result"
    }
   ],
   "source": [
    "data.head(25)"
   ]
  },
  {
   "cell_type": "code",
   "execution_count": null,
   "id": "d4f38b6f",
   "metadata": {},
   "outputs": [],
   "source": []
  },
  {
   "cell_type": "code",
   "execution_count": null,
   "id": "0f2b3ecb",
   "metadata": {},
   "outputs": [],
   "source": []
  },
  {
   "cell_type": "code",
   "execution_count": null,
   "id": "f89748e2",
   "metadata": {},
   "outputs": [],
   "source": [
    "result.head()"
   ]
  },
  {
   "cell_type": "code",
   "execution_count": null,
   "id": "4b54c116",
   "metadata": {},
   "outputs": [],
   "source": [
    "# Save the data to an Excel file\n",
    "result.to_excel('milan_rentals.xlsx', index=False)"
   ]
  }
 ],
 "metadata": {
  "kernelspec": {
   "display_name": "Python 3 (ipykernel)",
   "language": "python",
   "name": "python3"
  },
  "language_info": {
   "codemirror_mode": {
    "name": "ipython",
    "version": 3
   },
   "file_extension": ".py",
   "mimetype": "text/x-python",
   "name": "python",
   "nbconvert_exporter": "python",
   "pygments_lexer": "ipython3",
   "version": "3.9.12"
  }
 },
 "nbformat": 4,
 "nbformat_minor": 5
}

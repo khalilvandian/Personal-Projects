{
 "cells": [
  {
   "cell_type": "code",
   "execution_count": 1,
   "id": "3518feb2",
   "metadata": {},
   "outputs": [],
   "source": [
    "import re"
   ]
  },
  {
   "cell_type": "code",
   "execution_count": 4,
   "id": "21ba9f0e",
   "metadata": {},
   "outputs": [],
   "source": [
    "text = '1960-01-01,1.45797598627786'"
   ]
  },
  {
   "cell_type": "code",
   "execution_count": 22,
   "id": "d5b22741",
   "metadata": {},
   "outputs": [],
   "source": [
    "t = re.search(r\"\\A|[-/]([0-9][0-9][0-9][0-9])[-/]|$\", text)"
   ]
  },
  {
   "cell_type": "code",
   "execution_count": 23,
   "id": "6616e301",
   "metadata": {},
   "outputs": [
    {
     "data": {
      "text/plain": [
       "<re.Match object; span=(0, 0), match=''>"
      ]
     },
     "execution_count": 23,
     "metadata": {},
     "output_type": "execute_result"
    }
   ],
   "source": [
    "t"
   ]
  },
  {
   "cell_type": "code",
   "execution_count": null,
   "id": "703dc353",
   "metadata": {},
   "outputs": [],
   "source": []
  }
 ],
 "metadata": {
  "kernelspec": {
   "display_name": "Python 3 (ipykernel)",
   "language": "python",
   "name": "python3"
  },
  "language_info": {
   "codemirror_mode": {
    "name": "ipython",
    "version": 3
   },
   "file_extension": ".py",
   "mimetype": "text/x-python",
   "name": "python",
   "nbconvert_exporter": "python",
   "pygments_lexer": "ipython3",
   "version": "3.9.12"
  }
 },
 "nbformat": 4,
 "nbformat_minor": 5
}

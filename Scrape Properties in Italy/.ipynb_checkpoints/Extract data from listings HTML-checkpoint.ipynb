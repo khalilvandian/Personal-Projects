{
 "cells": [
  {
   "cell_type": "code",
   "execution_count": 1,
   "id": "179849e0",
   "metadata": {},
   "outputs": [],
   "source": [
    "from selenium import webdriver\n",
    "from selenium.webdriver.chrome.service import Service\n",
    "from selenium.webdriver.common.by import By\n",
    "from selenium.webdriver.support.ui import WebDriverWait\n",
    "from selenium.webdriver.support import expected_conditions as EC\n",
    "from bs4 import BeautifulSoup\n",
    "import pandas as pd"
   ]
  },
  {
   "cell_type": "code",
   "execution_count": 2,
   "id": "1910bdf4",
   "metadata": {},
   "outputs": [],
   "source": [
    "data = pd.read_csv('Listings With Html details03.csv')"
   ]
  },
  {
   "cell_type": "code",
   "execution_count": 3,
   "id": "21fba563",
   "metadata": {},
   "outputs": [
    {
     "data": {
      "text/html": [
       "<div>\n",
       "<style scoped>\n",
       "    .dataframe tbody tr th:only-of-type {\n",
       "        vertical-align: middle;\n",
       "    }\n",
       "\n",
       "    .dataframe tbody tr th {\n",
       "        vertical-align: top;\n",
       "    }\n",
       "\n",
       "    .dataframe thead th {\n",
       "        text-align: right;\n",
       "    }\n",
       "</style>\n",
       "<table border=\"1\" class=\"dataframe\">\n",
       "  <thead>\n",
       "    <tr style=\"text-align: right;\">\n",
       "      <th></th>\n",
       "      <th>Unnamed: 0</th>\n",
       "      <th>Title</th>\n",
       "      <th>Price</th>\n",
       "      <th>Description</th>\n",
       "      <th>Link</th>\n",
       "      <th>Html_content</th>\n",
       "    </tr>\n",
       "  </thead>\n",
       "  <tbody>\n",
       "    <tr>\n",
       "      <th>0</th>\n",
       "      <td>0</td>\n",
       "      <td>Apartment viale Carlo Troya, Piazza Napoli, Milan</td>\n",
       "      <td>€ 2/month</td>\n",
       "      <td>NaN</td>\n",
       "      <td>https://www.immobiliare.it/en/annunci/102395892/</td>\n",
       "      <td>&lt;html prefix=\"og: http://ogp.me/ns# fb: http:/...</td>\n",
       "    </tr>\n",
       "    <tr>\n",
       "      <th>1</th>\n",
       "      <td>1</td>\n",
       "      <td>Studio piazza Prealpi 4, Certosa, Milan</td>\n",
       "      <td>€ 325/month</td>\n",
       "      <td>Piazza Prealpi:\\nAdiacente a Via Monte Generos...</td>\n",
       "      <td>https://www.immobiliare.it/en/annunci/103076386/</td>\n",
       "      <td>&lt;html prefix=\"og: http://ogp.me/ns# fb: http:/...</td>\n",
       "    </tr>\n",
       "    <tr>\n",
       "      <th>2</th>\n",
       "      <td>2</td>\n",
       "      <td>2-room flat via Flavia 3, Affori, Milan</td>\n",
       "      <td>€ 400/month</td>\n",
       "      <td>MILAN - Via Flavia 3, in a civil building with...</td>\n",
       "      <td>https://www.immobiliare.it/en/annunci/103185922/</td>\n",
       "      <td>&lt;html prefix=\"og: http://ogp.me/ns# fb: http:/...</td>\n",
       "    </tr>\n",
       "    <tr>\n",
       "      <th>3</th>\n",
       "      <td>3</td>\n",
       "      <td>Studio viale Bligny 42, Bocconi, Milan</td>\n",
       "      <td>€ 480/month</td>\n",
       "      <td>Rif: bligny - Romana - Bocconi - Viale Bligny,...</td>\n",
       "      <td>https://www.immobiliare.it/en/annunci/82785855/</td>\n",
       "      <td>&lt;html prefix=\"og: http://ogp.me/ns# fb: http:/...</td>\n",
       "    </tr>\n",
       "    <tr>\n",
       "      <th>4</th>\n",
       "      <td>4</td>\n",
       "      <td>Studio via Francesco Cavezzali 11, Turro, Milan</td>\n",
       "      <td>€ 500/month</td>\n",
       "      <td>• Z115 - Turro - Via Francesco Cavezzali 11 - ...</td>\n",
       "      <td>https://www.immobiliare.it/en/annunci/68343753/</td>\n",
       "      <td>&lt;html prefix=\"og: http://ogp.me/ns# fb: http:/...</td>\n",
       "    </tr>\n",
       "  </tbody>\n",
       "</table>\n",
       "</div>"
      ],
      "text/plain": [
       "   Unnamed: 0                                              Title        Price  \\\n",
       "0           0  Apartment viale Carlo Troya, Piazza Napoli, Milan    € 2/month   \n",
       "1           1            Studio piazza Prealpi 4, Certosa, Milan  € 325/month   \n",
       "2           2            2-room flat via Flavia 3, Affori, Milan  € 400/month   \n",
       "3           3             Studio viale Bligny 42, Bocconi, Milan  € 480/month   \n",
       "4           4    Studio via Francesco Cavezzali 11, Turro, Milan  € 500/month   \n",
       "\n",
       "                                         Description  \\\n",
       "0                                                NaN   \n",
       "1  Piazza Prealpi:\\nAdiacente a Via Monte Generos...   \n",
       "2  MILAN - Via Flavia 3, in a civil building with...   \n",
       "3  Rif: bligny - Romana - Bocconi - Viale Bligny,...   \n",
       "4  • Z115 - Turro - Via Francesco Cavezzali 11 - ...   \n",
       "\n",
       "                                               Link  \\\n",
       "0  https://www.immobiliare.it/en/annunci/102395892/   \n",
       "1  https://www.immobiliare.it/en/annunci/103076386/   \n",
       "2  https://www.immobiliare.it/en/annunci/103185922/   \n",
       "3   https://www.immobiliare.it/en/annunci/82785855/   \n",
       "4   https://www.immobiliare.it/en/annunci/68343753/   \n",
       "\n",
       "                                        Html_content  \n",
       "0  <html prefix=\"og: http://ogp.me/ns# fb: http:/...  \n",
       "1  <html prefix=\"og: http://ogp.me/ns# fb: http:/...  \n",
       "2  <html prefix=\"og: http://ogp.me/ns# fb: http:/...  \n",
       "3  <html prefix=\"og: http://ogp.me/ns# fb: http:/...  \n",
       "4  <html prefix=\"og: http://ogp.me/ns# fb: http:/...  "
      ]
     },
     "execution_count": 3,
     "metadata": {},
     "output_type": "execute_result"
    }
   ],
   "source": [
    "data.head()"
   ]
  },
  {
   "cell_type": "code",
   "execution_count": 4,
   "id": "58d7249f",
   "metadata": {},
   "outputs": [],
   "source": [
    "data = data.drop(columns=['Unnamed: 0'], axis=1)"
   ]
  },
  {
   "cell_type": "code",
   "execution_count": 11,
   "id": "c6ec69c3",
   "metadata": {},
   "outputs": [],
   "source": [
    "temp = data.iloc[1]"
   ]
  },
  {
   "cell_type": "code",
   "execution_count": 12,
   "id": "2cb2b107",
   "metadata": {},
   "outputs": [
    {
     "data": {
      "text/plain": [
       "Title                     Studio piazza Prealpi 4, Certosa, Milan\n",
       "Price                                                 € 325/month\n",
       "Description     Piazza Prealpi:\\nAdiacente a Via Monte Generos...\n",
       "Link             https://www.immobiliare.it/en/annunci/103076386/\n",
       "Html_content    <html prefix=\"og: http://ogp.me/ns# fb: http:/...\n",
       "Name: 1, dtype: object"
      ]
     },
     "execution_count": 12,
     "metadata": {},
     "output_type": "execute_result"
    }
   ],
   "source": [
    "temp"
   ]
  },
  {
   "cell_type": "code",
   "execution_count": 13,
   "id": "ec1fd327",
   "metadata": {},
   "outputs": [],
   "source": [
    "soup = BeautifulSoup(temp.Html_content, 'html.parser')"
   ]
  },
  {
   "cell_type": "code",
   "execution_count": 17,
   "id": "d41c903e",
   "metadata": {},
   "outputs": [],
   "source": [
    "description = soup.find('div', attrs={'class':\"in-readAll in-readAll--lessContent\"}).text"
   ]
  },
  {
   "cell_type": "code",
   "execution_count": 21,
   "id": "d0d14c6f",
   "metadata": {},
   "outputs": [],
   "source": [
    "refAndAdDate = soup.find('dd', attrs={'class':\"in-realEstateFeatures__value\"}).text"
   ]
  },
  {
   "cell_type": "code",
   "execution_count": null,
   "id": "4ec0a39d",
   "metadata": {},
   "outputs": [],
   "source": [
    "soup.find('dd', attrs={'class':\"in-realEstateFeatures__value\"}).text"
   ]
  },
  {
   "cell_type": "code",
   "execution_count": null,
   "id": "0577f743",
   "metadata": {},
   "outputs": [],
   "source": [
    "soup.find('dd', attrs={'class':\"in-realEstateFeatures__value\"}).text"
   ]
  },
  {
   "cell_type": "code",
   "execution_count": null,
   "id": "24024376",
   "metadata": {},
   "outputs": [],
   "source": [
    "soup.find('dd', attrs={'class':\"in-realEstateFeatures__value\"}).text"
   ]
  },
  {
   "cell_type": "code",
   "execution_count": 25,
   "id": "7c32b254",
   "metadata": {},
   "outputs": [
    {
     "name": "stdout",
     "output_type": "stream",
     "text": [
      "<dl class=\"in-realEstateFeatures__list\"><dt class=\"in-realEstateFeatures__title\">Reference and ad Date</dt><dd class=\"in-realEstateFeatures__value\">60746990 - 05/16/2023</dd><dt class=\"in-realEstateFeatures__title\">contract</dt><dd class=\"in-realEstateFeatures__value\">Rent</dd><dt class=\"in-realEstateFeatures__title\">type</dt><dd class=\"in-realEstateFeatures__value\">Apartment | Full ownership | Medium property class</dd><dt class=\"in-realEstateFeatures__title\">surface</dt><dd class=\"in-realEstateFeatures__value\">15 m²<!-- --> - <a role=\"button\" tabindex=\"0\">See detail</a></dd><dt class=\"in-realEstateFeatures__title\">rooms</dt><dd class=\"in-realEstateFeatures__value\">1 bedroom, 1 bathroom, kitchen nook</dd><dt class=\"in-realEstateFeatures__title\">floor</dt><dd class=\"in-realEstateFeatures__value\">4°, with disabled access</dd><dt class=\"in-realEstateFeatures__title\">total building floors</dt><dd class=\"in-realEstateFeatures__value\">4 floors</dd><dt class=\"in-realEstateFeatures__title\">availability</dt><dd class=\"in-realEstateFeatures__value\">Available from 18/05/2023</dd><dt class=\"in-realEstateFeatures__title\">other features</dt><dd class=\"in-realEstateFeatures__value in-realEstateFeatures__tagContainer\"><span class=\"in-realEstateFeatures__tag nd-tag\">Security door</span><span class=\"in-realEstateFeatures__tag nd-tag\">Internal exposure</span><span class=\"in-realEstateFeatures__tag nd-tag\">Balcony</span><span class=\"in-realEstateFeatures__tag nd-tag\">Full day concierge</span><span class=\"in-realEstateFeatures__tag nd-tag\">Centralized TV system</span><span class=\"in-realEstateFeatures__tag nd-tag\">Furnished</span><span class=\"in-realEstateFeatures__tag nd-tag\">Shared garden</span><span class=\"in-realEstateFeatures__tag nd-tag\">Window frames in double glass / PVC</span></dd></dl>\n"
     ]
    }
   ],
   "source": [
    "feauturesList = soup.find('dl', attrs={'class':\"in-realEstateFeatures__list\"})"
   ]
  },
  {
   "cell_type": "code",
   "execution_count": null,
   "id": "86ce02ab",
   "metadata": {},
   "outputs": [],
   "source": [
    "REFERENCE AND AD DATE\n",
    "60746990 - 05/16/2023\n",
    "CONTRACT\n",
    "Rent\n",
    "TYPE\n",
    "Apartment | Full ownership | Medium property class\n",
    "SURFACE\n",
    "15 m² - \n",
    "ROOMS\n",
    "1 bedroom, 1 bathroom, kitchen nook\n",
    "FLOOR\n",
    "4°, with disabled access\n",
    "TOTAL BUILDING FLOORS\n",
    "4 floors\n",
    "AVAILABILITY\n",
    "Available from 18/05/2023\n",
    "OTHER FEATURES"
   ]
  }
 ],
 "metadata": {
  "kernelspec": {
   "display_name": "Python 3 (ipykernel)",
   "language": "python",
   "name": "python3"
  },
  "language_info": {
   "codemirror_mode": {
    "name": "ipython",
    "version": 3
   },
   "file_extension": ".py",
   "mimetype": "text/x-python",
   "name": "python",
   "nbconvert_exporter": "python",
   "pygments_lexer": "ipython3",
   "version": "3.9.12"
  }
 },
 "nbformat": 4,
 "nbformat_minor": 5
}
